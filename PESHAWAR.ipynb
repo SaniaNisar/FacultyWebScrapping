{
 "cells": [
  {
   "cell_type": "code",
   "execution_count": 45,
   "id": "66ef949f-fb10-4d4d-bea7-e383621b5e7a",
   "metadata": {},
   "outputs": [],
   "source": [
    "from bs4 import BeautifulSoup\n",
    "import requests\n",
    "import pandas as pd"
   ]
  },
  {
   "cell_type": "code",
   "execution_count": 65,
   "id": "3fda13d9-280d-441c-892b-3a855632cd84",
   "metadata": {},
   "outputs": [],
   "source": [
    "ID = []                    # Integer\n",
    "Name = []                  # String\n",
    "Designation = []           # String\n",
    "HEC_Approved_PHD_Supervisor = []  # Bool\n",
    "Highest_Education = []     # String\n",
    "Email = []                 # EMAIL\n",
    "Department = []            # String\n",
    "Extension = []             # Integer\n",
    "ImageURL = []              # URL"
   ]
  },
  {
   "cell_type": "code",
   "execution_count": 67,
   "id": "93a7a09c-a62c-40cc-ba9e-3682cd1d5c40",
   "metadata": {},
   "outputs": [],
   "source": [
    "Faculty_Pages=[\n",
    "    'http://pwr.nu.edu.pk/cs-faculty/',\n",
    "    'http://pwr.nu.edu.pk/sh-faculty/',\n",
    "    'http://pwr.nu.edu.pk/ee-faculty/',\n",
    "]"
   ]
  },
  {
   "cell_type": "code",
   "execution_count": 69,
   "id": "e86f2a82-d71b-4fdb-8179-20b9ea6db72b",
   "metadata": {},
   "outputs": [],
   "source": [
    "baseURL = \"http://pwr.nu.edu.pk/\""
   ]
  },
  {
   "cell_type": "code",
   "execution_count": 71,
   "id": "1bf38ee1-09e9-4eb1-9f9d-a1986c72abb5",
   "metadata": {},
   "outputs": [
    {
     "name": "stdout",
     "output_type": "stream",
     "text": [
      "<Response [200]>\n"
     ]
    }
   ],
   "source": [
    "r = requests.get(baseURL)\n",
    "print(r)"
   ]
  },
  {
   "cell_type": "code",
   "execution_count": 73,
   "id": "dbacb1cc-4e66-4b73-b837-45b047fdff02",
   "metadata": {},
   "outputs": [],
   "source": [
    "for page in Faculty_Pages:\n",
    "    res = requests.get(page)\n",
    "    soup = BeautifulSoup(res.content, 'html.parser')\n",
    "\n",
    "    faculty = soup.findAll('a', class_='text-theme-color-2')\n",
    "    for teacher in faculty:\n",
    "        link = 'http://pwr.nu.edu.pk/' + teacher['href']\n",
    "        res2 = requests.get(link)\n",
    "        teacherId = link.split('=')[-1]\n",
    "        ID.append(teacherId)\n",
    "\n",
    "        teacherSoup = BeautifulSoup(res2.content, 'html.parser')\n",
    "\n",
    "        Name.append(teacherSoup.find('h3', class_='name font-24 mt-0 mb-0').text.strip() if teacherSoup.find('h3', class_='name font-24 mt-0 mb-0') else \"N/A\")\n",
    "        Designation.append(teacherSoup.find('h5', class_='mt-5 text-theme-color-2').text.strip() if teacherSoup.find('h5', class_='mt-5 text-theme-color-2') else \"N/A\")\n",
    "        \n",
    "        status = teacherSoup.find('h5', style='color: green')\n",
    "        HEC_Approved_PHD_Supervisor.append(status.text.strip() != '' if status else False)\n",
    "        \n",
    "        edu = teacherSoup.find('ul', class_='list')\n",
    "        edu = edu.find('li').text.strip() if edu and edu.find('li') else \"N/A\"\n",
    "        Highest_Education.append(edu)\n",
    "\n",
    "        email = teacherSoup.find('a', href=lambda href: href and \"mailto\" in href).text.strip()\n",
    "        Email.append(email if email else \"N/A\")\n",
    "        \n",
    "        dept = teacherSoup.find('h2', class_='title text-white').text.strip()[:-8]\n",
    "        Department.append(dept if dept else \"N/A\")\n",
    "\n",
    "        ext = teacherSoup.find('h5', string=lambda text: text and \"Ext.\" in text)\n",
    "        Extension.append(int(ext.text.split()[-1]) if ext else None)\n",
    "\n",
    "        img = teacherSoup.find('div', class_='thumb').find('img')['src']\n",
    "        ImageURL.append('http://pwr.nu.edu.pk' + img if img else \"N/A\")"
   ]
  },
  {
   "cell_type": "code",
   "execution_count": 75,
   "id": "89221e87-eec9-4867-be01-637cc0b0da9e",
   "metadata": {},
   "outputs": [
    {
     "name": "stdout",
     "output_type": "stream",
     "text": [
      "['3704', '9237', '9315', '9482', '6833', '3692', '9348', '5436', '4564', '4918', '6670', '6713', '6821', '5914', '5913', '6071', '6523', '6524', '6525', '6564', '6705', '6586', '6657', '6841', '6840', '5698', '4377', '6522', '5534', '5612', '6050', '6460', '4457', '3953', '4501', '4815', '4800', '4567', '9178', '9362', '4471'] ['Fazl-e-Basit', 'Dr. Omar Usman Khan', 'Dr. Hafeez Ur Rehman', 'Dr. Nouman Azam', 'Dr. Hafeez Anwar', 'Shoaib Muhammad Khan', 'Dr. Taimoor Khan', 'Dr. Bilal Khan', 'Dr. Muhammad Amin', 'Dr. Waqas Ali', 'Dr. Ali Sayyed', 'Dr. Muhammad Waqar Aziz', 'Dr. Qasim Jan', 'Mashal Khan', 'Sara Rehmat', 'Usama Musharaf', 'Shahzeb Khan', 'Sanaa Jeehan', 'Usman Wajid', 'Muhammad Umer Haroon', 'Haroon Zafar', 'Muhammad Saad Rashad', 'Muhammad Saood Sarwar', 'Iqra Rehman', 'Muhammad Saad Khan', 'Dr. Askar Ali', 'Dr. Ihsan Ullah', 'Dr. Shams-ul Arifeen', 'Osama Sohrab', 'Abida Farid', 'Noreen Shah', 'Abdul Basit Khan', 'Dr. Muhammad Usman Abbasi', 'Muhammad Asif Khan', 'Rahat Ehsan', 'Dr. Suleman Mir', 'Dr. Maqsood Khan', 'Waseem Ullah', 'Kashif Javed', 'Anum Rashad', 'Muneeb Suhail'] ['Assistant Professor', 'Professor & Director', 'Associate Professor', 'Associate Professor', 'Associate Professor', 'Assistant Professor', 'Assistant Professor', 'Assistant Professor', 'Assistant Professor', 'Assistant Professor', 'Assistant Professor', 'Assistant Professor', 'Assistant Professor', 'Lecturer', 'Lecturer', 'Lecturer', 'Lecturer', 'Lecturer', 'Lecturer', 'Lecturer', 'Lecturer', 'Instructor', 'Instructor', 'Instructor', 'Instructor', 'Assistant Professor', 'Assistant Professor', 'Assistant Professor', 'Lecturer', 'Lecturer', 'Lecturer', 'Lecturer', 'Assistant Professor', 'Assistant Professor', 'Assistant Professor', 'Assistant Professor', 'Assistant Professor', 'Lab Engineer', 'Lab Engineer', 'Lab Engineer', 'Lab Engineer'] [False, True, True, True, False, False, True, True, True, False, True, True, True, False, False, False, False, False, False, False, False, False, False, False, False, True, True, True, False, False, False, False, True, False, False, False, False, False, False, False, False] ['fazl.basit@nu.edu.pk', 'omar.khan@nu.edu.pk', 'hafeez.urrehman@nu.edu.pk', 'nouman.azam@nu.edu.pk', 'hafeez.anwar@nu.edu.pk', 'shoaib.khan@nu.edu.pk', 'taimoor.khan@nu.edu.pk', 'khan.bilal@nu.edu.pk', 'muhammad.amin@nu.edu.pk', 'waqas.ali@nu.edu.pk', 'ali.sayyed@nu.edu.pk', 'waqar.aziz@nu.edu.pk', 'qasim.jan@nu.edu.pk', 'mashal.khan@nu.edu.pk', 'sara.rehmat@nu.edu.pk', 'usama.musharaf@nu.edu.pk', 'shahzeb.khan@nu.edu.pk', 'sanaa.jeehan@nu.edu.pk', 'usman.wajid@nu.edu.pk', 'umer.haroon@nu.edu.pk', 'haroon.zafar@nu.edu.pk', 'saad.rashad@nu.edu.pk', 'saood.sarwar@nu.edu.pk', 'iqra.rehman@nu.edu.pk', 'saad.khan@nu.edu.pk', 'askar.ali@nu.edu.pk', 'ihsan.ullah@nu.edu.pk', 'shams.arifeen@nu.edu.pk', 'osama.sohrab@nu.edu.pk', 'abida.farid@nu.edu.pk', 'noreen.shah@nu.edu.pk', 'abdulbasit.khan@nu.edu.pk', 'usman.abbasi@nu.edu.pk', 'm.asif@nu.edu.pk', 'rahat.ehsan@nu.edu.pk', 'suleman.mir@nu.edu.pk', 'maqsood.khan@nu.edu.pk', 'waseemullah@nu.edu.pk', 'kashif.javed@nu.edu.pk', 'anum.rashad@nu.edu.pk', 'muneeb.sohail@nu.edu.pk'] ['http://pwr.nu.edu.pkimages/faculty/profile3704.jpg', 'http://pwr.nu.edu.pkimages/faculty/profile9237.jpg', 'http://pwr.nu.edu.pkimages/faculty/profile9315.jpg', 'http://pwr.nu.edu.pkimages/faculty/profile9482.jpg', 'http://pwr.nu.edu.pkimages/faculty/profile6833.jpg', 'http://pwr.nu.edu.pkimages/faculty/profile3692.jpg', 'http://pwr.nu.edu.pkimages/faculty/profile9348.jpg', 'http://pwr.nu.edu.pkimages/faculty/profile5436.jpg', 'http://pwr.nu.edu.pkimages/faculty/profile4564.jpg', 'http://pwr.nu.edu.pkimages/faculty/profile4918.jpg', 'http://pwr.nu.edu.pkimages/faculty/profile6670.jpg', 'http://pwr.nu.edu.pkimages/faculty/profile6713.jpg', 'http://pwr.nu.edu.pkimages/faculty/profile6821.jpg', 'http://pwr.nu.edu.pkimages/faculty/profile5914.jpg', 'http://pwr.nu.edu.pkimages/faculty/profile5913.jpg', 'http://pwr.nu.edu.pkimages/faculty/profile6071.jpg', 'http://pwr.nu.edu.pkimages/faculty/profile6523.jpg', 'http://pwr.nu.edu.pkimages/faculty/profile6524.jpg', 'http://pwr.nu.edu.pkimages/faculty/profile6525.jpg', 'http://pwr.nu.edu.pkimages/faculty/profile6564.jpg', 'http://pwr.nu.edu.pkimages/faculty/profile6705.jpg', 'http://pwr.nu.edu.pkimages/faculty/profile6586.jpg', 'http://pwr.nu.edu.pkimages/faculty/profile6657.jpg', 'http://pwr.nu.edu.pkimages/faculty/profile6841.jpg', 'http://pwr.nu.edu.pkimages/faculty/profile6840.jpg', 'http://pwr.nu.edu.pkimages/faculty/profile5698.jpg', 'http://pwr.nu.edu.pkimages/faculty/profile4377.jpg', 'http://pwr.nu.edu.pkimages/faculty/profile6522.jpg', 'http://pwr.nu.edu.pkimages/faculty/profile5534.jpg', 'http://pwr.nu.edu.pkimages/faculty/profile5612.jpg', 'http://pwr.nu.edu.pkimages/faculty/profile6050.jpg', 'http://pwr.nu.edu.pkimages/faculty/profile6460.jpg', 'http://pwr.nu.edu.pkimages/faculty/profile4457.jpg', 'http://pwr.nu.edu.pkimages/faculty/profile3953.jpg', 'http://pwr.nu.edu.pkimages/faculty/profile4501.jpg', 'http://pwr.nu.edu.pkimages/faculty/profile4815.jpg', 'http://pwr.nu.edu.pkimages/faculty/profile4800.jpg', 'http://pwr.nu.edu.pkimages/faculty/profile4567.jpg', 'http://pwr.nu.edu.pkimages/faculty/profile9178.jpg', 'http://pwr.nu.edu.pkimages/faculty/profile9362.jpg', 'http://pwr.nu.edu.pkimages/faculty/profile4471.jpg']\n"
     ]
    }
   ],
   "source": [
    "print(ID,\n",
    "Name,\n",
    "Designation,\n",
    "HEC_Approved_PHD_Supervisor,\n",
    "Email,\n",
    "ImageURL)"
   ]
  },
  {
   "cell_type": "code",
   "execution_count": 77,
   "id": "7e9a8352-07b7-4aaa-8b35-6957104a01c0",
   "metadata": {},
   "outputs": [
    {
     "name": "stdout",
     "output_type": "stream",
     "text": [
      "41\n",
      "41\n",
      "41\n",
      "41\n",
      "41\n",
      "41\n",
      "41\n",
      "41\n",
      "41\n"
     ]
    }
   ],
   "source": [
    "print(len(ID))\n",
    "print(len(Name))\n",
    "print(len(Designation))\n",
    "print(len(Email))\n",
    "print(len(Highest_Education))\n",
    "print(len(HEC_Approved_PHD_Supervisor))\n",
    "print(len(Department))\n",
    "print(len(Extension))\n",
    "print(len(ImageURL))"
   ]
  },
  {
   "cell_type": "code",
   "execution_count": 79,
   "id": "128ef7b8-a087-4c75-b71f-0927a5777798",
   "metadata": {},
   "outputs": [],
   "source": [
    "faculty_df = pd.DataFrame({'ID': ID , 'Name': Name , 'Designation': Designation , 'HEC_Approved_PHD_Supervisor': HEC_Approved_PHD_Supervisor ,\n",
    "                       'Highest_Education': Highest_Education , 'Email' : Email , 'Department': Department , 'Extension': Extension ,\n",
    "                       'ImageURL': ImageURL })"
   ]
  },
  {
   "cell_type": "code",
   "execution_count": 81,
   "id": "45c647f4-f223-4080-9a40-aaf33579af8f",
   "metadata": {},
   "outputs": [],
   "source": [
    "faculty_df.to_csv('psh.csv')"
   ]
  },
  {
   "cell_type": "code",
   "execution_count": null,
   "id": "ae464e49-39ef-4f42-90b1-c0910bd69f73",
   "metadata": {},
   "outputs": [],
   "source": []
  }
 ],
 "metadata": {
  "kernelspec": {
   "display_name": "Python [conda env:base] *",
   "language": "python",
   "name": "conda-base-py"
  },
  "language_info": {
   "codemirror_mode": {
    "name": "ipython",
    "version": 3
   },
   "file_extension": ".py",
   "mimetype": "text/x-python",
   "name": "python",
   "nbconvert_exporter": "python",
   "pygments_lexer": "ipython3",
   "version": "3.12.7"
  }
 },
 "nbformat": 4,
 "nbformat_minor": 5
}
