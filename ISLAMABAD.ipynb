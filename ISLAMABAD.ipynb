{
 "cells": [
  {
   "cell_type": "code",
   "execution_count": 70,
   "id": "a65264aa-9878-42a3-ab7a-98e8f4ef3158",
   "metadata": {},
   "outputs": [],
   "source": [
    "import pandas as pd\n",
    "import requests\n",
    "from bs4 import BeautifulSoup"
   ]
  },
  {
   "cell_type": "code",
   "execution_count": 62,
   "id": "764ef754-8860-47a1-bfe5-6577f52649a0",
   "metadata": {},
   "outputs": [
    {
     "name": "stdout",
     "output_type": "stream",
     "text": [
      "Requirement already satisfied: selenium in c:\\users\\sania\\anaconda3\\lib\\site-packages (4.29.0)\n",
      "Requirement already satisfied: urllib3<3,>=1.26 in c:\\users\\sania\\anaconda3\\lib\\site-packages (from urllib3[socks]<3,>=1.26->selenium) (2.2.3)\n",
      "Requirement already satisfied: trio~=0.17 in c:\\users\\sania\\anaconda3\\lib\\site-packages (from selenium) (0.29.0)\n",
      "Requirement already satisfied: trio-websocket~=0.9 in c:\\users\\sania\\anaconda3\\lib\\site-packages (from selenium) (0.12.1)\n",
      "Requirement already satisfied: certifi>=2021.10.8 in c:\\users\\sania\\anaconda3\\lib\\site-packages (from selenium) (2025.1.31)\n",
      "Requirement already satisfied: typing_extensions~=4.9 in c:\\users\\sania\\anaconda3\\lib\\site-packages (from selenium) (4.11.0)\n",
      "Requirement already satisfied: websocket-client~=1.8 in c:\\users\\sania\\anaconda3\\lib\\site-packages (from selenium) (1.8.0)\n",
      "Requirement already satisfied: attrs>=23.2.0 in c:\\users\\sania\\anaconda3\\lib\\site-packages (from trio~=0.17->selenium) (25.1.0)\n",
      "Requirement already satisfied: sortedcontainers in c:\\users\\sania\\anaconda3\\lib\\site-packages (from trio~=0.17->selenium) (2.4.0)\n",
      "Requirement already satisfied: idna in c:\\users\\sania\\anaconda3\\lib\\site-packages (from trio~=0.17->selenium) (3.7)\n",
      "Requirement already satisfied: outcome in c:\\users\\sania\\anaconda3\\lib\\site-packages (from trio~=0.17->selenium) (1.3.0.post0)\n",
      "Requirement already satisfied: sniffio>=1.3.0 in c:\\users\\sania\\anaconda3\\lib\\site-packages (from trio~=0.17->selenium) (1.3.0)\n",
      "Requirement already satisfied: cffi>=1.14 in c:\\users\\sania\\anaconda3\\lib\\site-packages (from trio~=0.17->selenium) (1.17.1)\n",
      "Requirement already satisfied: wsproto>=0.14 in c:\\users\\sania\\anaconda3\\lib\\site-packages (from trio-websocket~=0.9->selenium) (1.2.0)\n",
      "Requirement already satisfied: pysocks!=1.5.7,<2.0,>=1.5.6 in c:\\users\\sania\\anaconda3\\lib\\site-packages (from urllib3[socks]<3,>=1.26->selenium) (1.7.1)\n",
      "Requirement already satisfied: pycparser in c:\\users\\sania\\anaconda3\\lib\\site-packages (from cffi>=1.14->trio~=0.17->selenium) (2.21)\n",
      "Requirement already satisfied: h11<1,>=0.9.0 in c:\\users\\sania\\anaconda3\\lib\\site-packages (from wsproto>=0.14->trio-websocket~=0.9->selenium) (0.14.0)\n"
     ]
    }
   ],
   "source": [
    "!pip install selenium"
   ]
  },
  {
   "cell_type": "code",
   "execution_count": 72,
   "id": "9156ea28-5c45-4e84-b357-d83c5db848ad",
   "metadata": {},
   "outputs": [],
   "source": [
    "from selenium import webdriver\n",
    "from selenium.webdriver.common.by import By\n",
    "from selenium.webdriver.support.ui import WebDriverWait\n",
    "from selenium.webdriver.support import expected_conditions as EC"
   ]
  },
  {
   "cell_type": "code",
   "execution_count": 74,
   "id": "895c5f4e-8ed4-4ce9-ac4e-732bc5b155bf",
   "metadata": {},
   "outputs": [],
   "source": [
    "URL= \"http://isb.nu.edu.pk/Faculty/allfaculty/\""
   ]
  },
  {
   "cell_type": "code",
   "execution_count": 172,
   "id": "f6f8ec02-af46-4160-b972-0e12fb7a3e48",
   "metadata": {},
   "outputs": [],
   "source": [
    "facultyWebdriver = webdriver.Chrome()\n",
    "facultyWebdriver.get(URL)"
   ]
  },
  {
   "cell_type": "code",
   "execution_count": 176,
   "id": "93c766e6-8885-45f3-9db6-9ede6efea288",
   "metadata": {},
   "outputs": [
    {
     "name": "stdout",
     "output_type": "stream",
     "text": [
      "267\n"
     ]
    }
   ],
   "source": [
    "faculty = WebDriverWait(facultyWebdriver, 10).until(EC.presence_of_all_elements_located((By.CLASS_NAME, \"our-team\")))\n",
    "print(len(faculty))"
   ]
  },
  {
   "cell_type": "code",
   "execution_count": 178,
   "id": "c69b967b-b537-47a1-885d-358f2b04118e",
   "metadata": {},
   "outputs": [],
   "source": [
    "ID = []                    # Integer\n",
    "Name = []                  # String\n",
    "Designation = []           # String\n",
    "HEC_Approved_PHD_Supervisor = []  # Bool\n",
    "Highest_Education = []     # String\n",
    "Email = []                 # EMAIL\n",
    "Department = []            # String\n",
    "Extension = []             # Integer\n",
    "ImageURL = []              # URL"
   ]
  },
  {
   "cell_type": "code",
   "execution_count": 180,
   "id": "b801a144-a17b-4315-9d2a-aaf7a4efd257",
   "metadata": {},
   "outputs": [],
   "source": [
    "for mem in faculty:\n",
    "    name = mem.find_element(By.CLASS_NAME, \"title\")\n",
    "    Name.append(name.text)\n",
    "\n",
    "    designation = mem.find_element(By.CLASS_NAME, \"post\")\n",
    "    Designation.append(designation.text)\n",
    "    \n",
    "    email = mem.find_element(By.TAG_NAME, \"p\")\n",
    "    Email.append(email.text)\n",
    "    \n",
    "    image = mem.find_element(By.TAG_NAME, \"img\")\n",
    "    ImageURL.append(image.get_attribute(\"src\"))\n",
    "\n",
    "    id = mem.find_element(By.TAG_NAME, \"a\")\n",
    "    ID.append(int(id.get_attribute(\"href\").split(\"/\")[-1]))"
   ]
  },
  {
   "cell_type": "code",
   "execution_count": 122,
   "id": "44e916b2-a45d-4115-aca6-485cd3d8c9d8",
   "metadata": {},
   "outputs": [
    {
     "name": "stdout",
     "output_type": "stream",
     "text": [
      "[4553, 4551, 4400, 5099, 6478, 5200, 5002, 3629, 5689, 5724, 5783, 5823, 6259, 9214, 6139, 5830, 5690, 5586, 5643, 4708, 5196, 5249, 6405, 6683, 6867, 7023, 6297, 6735, 6737, 6776, 6975, 6990, 6868, 6804, 6606, 6609, 6579, 6134, 5250, 3949, 4129, 4381, 4401, 4549, 5201, 5425, 5470, 5691, 6032, 5815, 5829, 6079, 6283, 9387, 7013, 7022, 7091, 6866, 9489, 9242, 6296, 6247, 6248, 6252, 6260, 6261, 6263, 6109, 6110, 6111, 6143, 6229, 6243, 6244, 5825, 5793, 6067, 5970, 5976, 5981, 5876, 5880, 5883, 5692, 5693, 5694, 5695, 5704, 5723, 5537, 5465, 5687, 6725, 6696, 6697, 6698, 6701, 6706, 6707, 6610, 6613, 6688, 6438, 6451, 6387, 6508, 6521, 6528, 6529, 6534, 6823, 6842, 6869, 7029, 7030, 6801, 6802, 7006, 7009, 7010, 7075, 7080, 7081, 7083, 6993, 7004, 6795, 6797, 6912, 6913, 6916, 6970, 6972, 6974, 6846, 6848, 6849, 6850, 6851, 6853, 6855, 6856, 6862, 6388, 6384, 6385, 6692, 6693, 6694, 6695, 6651, 6654, 6708, 6245, 5677, 5912, 5922, 5774, 5582, 4154, 5393, 6582, 6527, 6540, 6350, 6351, 4848, 5004, 5522, 5619, 9150, 6390, 4278, 4283, 4340, 3441, 3625, 3707, 3730, 4141, 4738, 3844, 3990, 4518, 5620, 5953, 5055, 7003, 9136, 9389, 4669, 5502, 5391, 5030, 4133, 4737, 4456, 9199, 5376, 4455, 5288, 3739, 6376, 3813, 6939, 9488, 5332, 5615, 6043, 5333, 5334, 5357, 4398, 5197, 5247, 5331, 6977, 9133, 9151, 9337, 6923, 9541, 7000, 5441, 7001, 6775, 6777, 6805, 6824, 6915, 6917, 9381, 5318, 5093, 5141, 5792, 5841, 6222, 6653, 6986, 6987, 6989, 6994, 6796, 6935, 5405, 4656, 3536, 3938, 4218, 4220, 4385, 4219, 5248, 9383, 4576, 3442, 3940, 4127, 4214, 9529, 5354, 5898, 5902, 6918, 7007, 9341] ['http://isb.nu.edu.pk/Images/Profile/CS/4553-3.jpg', 'http://isb.nu.edu.pk/Images/Profile/CS/4551.jpg', 'http://isb.nu.edu.pk/Images/Profile/CS/4400.jpg', 'http://isb.nu.edu.pk/Images/Profile/CS/5099.jpg', 'http://isb.nu.edu.pk/Images/Profile/CS/6478.jpg', 'http://isb.nu.edu.pk/Images/Profile/CS/5200.jpg', 'http://isb.nu.edu.pk/Images/Profile/CS/50022020-09-30_00.03.16.jpg', 'http://isb.nu.edu.pk/Images/Profile/CS/36292021-01-21_23.28.18.jpg', 'http://isb.nu.edu.pk/Images/Profile/CS/5689.jpg', 'http://isb.nu.edu.pk/Images/Profile/CS/5724.jpg', 'http://isb.nu.edu.pk/Images/Profile/CS/5783.jpg', 'http://isb.nu.edu.pk/Images/Profile/CS/5823.jpg', 'http://isb.nu.edu.pk/Images/Profile/CS/6259.jpg', 'http://isb.nu.edu.pk/Images/Profile/CS/9214.jpg', 'http://isb.nu.edu.pk/Images/Profile/CS/6139_20211001.jpg', 'http://isb.nu.edu.pk/Images/Profile/CS/5830.jpg', 'http://isb.nu.edu.pk/Images/Profile/CS/5690.jpg', 'http://isb.nu.edu.pk/Images/Profile/CS/5586_20211001.jpg', 'http://isb.nu.edu.pk/Images/Profile/CS/5643.jpg', 'http://isb.nu.edu.pk/Images/Profile/CS/4708.jpg', 'http://isb.nu.edu.pk/Images/Profile/CS/5196.jpg', 'http://isb.nu.edu.pk/Images/Profile/CS/5249.jpg', 'http://isb.nu.edu.pk/Images/Profile/CS/6405.jpg', 'http://isb.nu.edu.pk/Images/Profile/CS/6683.jpg', 'http://isb.nu.edu.pk/Images/Profile/CS/6867.jpg', 'http://isb.nu.edu.pk/Images/Profile/CS/7023_2.jpg', 'http://isb.nu.edu.pk/Images/Profile/CS/6297.jpg', 'http://isb.nu.edu.pk/Images/Profile/CS/6735.jpg', 'http://isb.nu.edu.pk/Images/Profile/CS/6737.jpg', 'http://isb.nu.edu.pk/Images/Profile/CS/6776.jpg', 'http://isb.nu.edu.pk/Images/Profile/CS/6975.jpg', 'http://isb.nu.edu.pk/Images/Profile/CS/6990.jpg', 'http://isb.nu.edu.pk/Images/Profile/CS/6868.jpg', 'http://isb.nu.edu.pk/Images/Profile/CS/6804.jpg', 'http://isb.nu.edu.pk/Images/Profile/CS/6606.jpg', 'http://isb.nu.edu.pk/Images/Profile/CS/6609.jpg', 'http://isb.nu.edu.pk/Images/Profile/CS/6579.jpg', 'http://isb.nu.edu.pk/Images/Profile/CS/6134.jpg', 'http://isb.nu.edu.pk/Images/Profile/CS/5250.jpg', 'http://isb.nu.edu.pk/Images/Profile/CS/3949.jpg', 'http://isb.nu.edu.pk/Images/Profile/CS/4129.jpg', 'http://isb.nu.edu.pk/Images/Profile/CS/4381.jpg', 'http://isb.nu.edu.pk/Images/Profile/CS/4401.jpg', 'http://isb.nu.edu.pk/Images/Profile/CS/4549.jpg', 'http://isb.nu.edu.pk/Images/Profile/CS/5201.png', 'http://isb.nu.edu.pk/Images/Profile/CS/5425.jpg', 'http://isb.nu.edu.pk/Images/Profile/CS/5470.jpg', 'http://isb.nu.edu.pk/Images/Profile/CS/5691.JPG', 'http://isb.nu.edu.pk/Images/Profile/CS/60322021-02-08_00.56.12.png', 'http://isb.nu.edu.pk/Images/Profile/CS/5815.jpg', 'http://isb.nu.edu.pk/Images/Profile/CS/5829.jpg', 'http://isb.nu.edu.pk/Images/Profile/CS/60792021-04-21_08.47.08.JPG', 'http://isb.nu.edu.pk/Images/Profile/CS/6283.jpg', 'http://isb.nu.edu.pk/Images/Profile/CS/9387_20211001.jpg', 'http://isb.nu.edu.pk/Images/Profile/CS/7013.jpg', 'http://isb.nu.edu.pk/Images/Profile/CS/7022.jpg', 'http://isb.nu.edu.pk/Images/Profile/CS/7091.jpg', 'http://isb.nu.edu.pk/Images/Profile/CS/6866.jpg', 'http://isb.nu.edu.pk/Images/Profile/CS/9489.jpg', 'http://isb.nu.edu.pk/Images/Profile/CS/9242.jpg', 'http://isb.nu.edu.pk/Images/Profile/CS/6296.jpg', 'http://isb.nu.edu.pk/Images/Profile/CS/6247.jpg', 'http://isb.nu.edu.pk/Images/Profile/CS/6248.jpg', 'http://isb.nu.edu.pk/Images/Profile/CS/6252.jpg', 'http://isb.nu.edu.pk/Images/Profile/CS/6260.jpg', 'http://isb.nu.edu.pk/Images/Profile/CS/6261.jpg', 'http://isb.nu.edu.pk/Images/Profile/CS/6263.jpg', 'http://isb.nu.edu.pk/Images/Profile/CS/6109_20211001.jpg', 'http://isb.nu.edu.pk/Images/Profile/CS/6110_20211001.jpg', 'http://isb.nu.edu.pk/Images/Profile/CS/6111_20211001.jpg', 'http://isb.nu.edu.pk/Images/Profile/CS/6143_20211001.jpg', 'http://isb.nu.edu.pk/Images/Profile/CS/6229.jpg', 'http://isb.nu.edu.pk/Images/Profile/CS/6243.jpg', 'http://isb.nu.edu.pk/Images/Profile/CS/6244.jpg', 'http://isb.nu.edu.pk/Images/Profile/CS/5825.jpg', 'http://isb.nu.edu.pk/Images/Profile/CS/5793.jpg', 'http://isb.nu.edu.pk/Images/Profile/CS/6067.jpg', 'http://isb.nu.edu.pk/Images/Profile/CS/59702020-09-03_02.13.07.jpg', 'http://isb.nu.edu.pk/Images/Profile/CS/59762020-09-03_02.12.04.jpg', 'http://isb.nu.edu.pk/Images/Profile/CS/5981_20211001.jpg', 'http://isb.nu.edu.pk/Images/Profile/CS/5876.jpg', 'http://isb.nu.edu.pk/Images/Profile/CS/5880.jpg', 'http://isb.nu.edu.pk/Images/Profile/CS/5883.JPG', 'http://isb.nu.edu.pk/Images/Profile/CS/5692.jpg', 'http://isb.nu.edu.pk/Images/Profile/CS/5693.jpg', 'http://isb.nu.edu.pk/Images/Profile/CS/5694.JPG', 'http://isb.nu.edu.pk/Images/Profile/CS/5695.jpg', 'http://isb.nu.edu.pk/Images/Profile/CS/5704.jpg', 'http://isb.nu.edu.pk/Images/Profile/CS/5723.jpg', 'http://isb.nu.edu.pk/Images/Profile/CS/5537.jpg', 'http://isb.nu.edu.pk/Images/Profile/CS/5465.jpg', 'http://isb.nu.edu.pk/Images/Profile/CS/5687.jpg', 'http://isb.nu.edu.pk/Images/Profile/CS/6725.jpg', 'http://isb.nu.edu.pk/Images/Profile/CS/6696.jpg', 'http://isb.nu.edu.pk/Images/Profile/CS/6697.jpg', 'http://isb.nu.edu.pk/Images/Profile/CS/6698.jpg', 'http://isb.nu.edu.pk/Images/Profile/CS/6701.jpg', 'http://isb.nu.edu.pk/Images/Profile/CS/6706.jpg', 'http://isb.nu.edu.pk/Images/Profile/CS/6707.jpg', 'http://isb.nu.edu.pk/Images/Profile/CS/6610.jpg', 'http://isb.nu.edu.pk/Images/Profile/CS/6613.jpg', 'http://isb.nu.edu.pk/Images/Profile/CS/6688.jpg', 'http://isb.nu.edu.pk/Images/Profile/CS/6438.jpg', 'http://isb.nu.edu.pk/Images/Profile/CS/6451.jpg', 'http://isb.nu.edu.pk/Images/Profile/CS/6387.jpg', 'http://isb.nu.edu.pk/Images/Profile/CS/6508.jpg', 'http://isb.nu.edu.pk/Images/Profile/CS/6521.jpg', 'http://isb.nu.edu.pk/Images/Profile/CS/6528.jpg', 'http://isb.nu.edu.pk/Images/Profile/CS/6529.jpg', 'http://isb.nu.edu.pk/Images/Profile/CS/6534.jpg', 'http://isb.nu.edu.pk/Images/Profile/CS/6823.jpg', 'http://isb.nu.edu.pk/Images/Profile/CS/6842.jpg', 'http://isb.nu.edu.pk/Images/Profile/CS/6869.jpg', 'http://isb.nu.edu.pk/Images/Profile/CS/7029.jpg', 'http://isb.nu.edu.pk/Images/Profile/CS/7030.jpg', 'http://isb.nu.edu.pk/Images/Profile/CS/6801.jpg', 'http://isb.nu.edu.pk/Images/Profile/CS/6802.jpg', 'http://isb.nu.edu.pk/Images/Profile/CS/7006.jpg', 'http://isb.nu.edu.pk/Images/Profile/CS/7009.jpg', 'http://isb.nu.edu.pk/Images/Profile/CS/7010.jpg', 'http://isb.nu.edu.pk/Images/Profile/CS/7075.jpg', 'http://isb.nu.edu.pk/Images/Profile/CS/7080.jpg', 'http://isb.nu.edu.pk/Images/Profile/CS/7081.jpg', 'http://isb.nu.edu.pk/Images/Profile/CS/7083.jpg', 'http://isb.nu.edu.pk/Images/Profile/CS/6993.jpg', 'http://isb.nu.edu.pk/Images/Profile/CS/7004.jpg', 'http://isb.nu.edu.pk/Images/Profile/CS/6795.jpg', 'http://isb.nu.edu.pk/Images/Profile/CS/6797.jpg', 'http://isb.nu.edu.pk/Images/Profile/CS/6912.jpg', 'http://isb.nu.edu.pk/Images/Profile/CS/6913.jpg', 'http://isb.nu.edu.pk/Images/Profile/CS/6916.jpg', 'http://isb.nu.edu.pk/Images/Profile/CS/6970.jpg', 'http://isb.nu.edu.pk/Images/Profile/CS/6972.jpg', 'http://isb.nu.edu.pk/Images/Profile/CS/6974.jpg', 'http://isb.nu.edu.pk/Images/Profile/CS/6846.jpg', 'http://isb.nu.edu.pk/Images/Profile/CS/6848.jpg', 'http://isb.nu.edu.pk/Images/Profile/CS/6849.jpg', 'http://isb.nu.edu.pk/Images/Profile/CS/6850.jpg', 'http://isb.nu.edu.pk/Images/Profile/CS/6851.jpg', 'http://isb.nu.edu.pk/Images/Profile/CS/6853.jpg', 'http://isb.nu.edu.pk/Images/Profile/CS/6855.jpg', 'http://isb.nu.edu.pk/Images/Profile/CS/6856.jpg', 'http://isb.nu.edu.pk/Images/Profile/CS/6862.jpg', 'http://isb.nu.edu.pk/Images/Profile/CS/6388.jpg', 'http://isb.nu.edu.pk/Images/Profile/CS/6384.jpg', 'http://isb.nu.edu.pk/Images/Profile/CS/6385.jpg', 'http://isb.nu.edu.pk/Images/Profile/CS/6692.jpg', 'http://isb.nu.edu.pk/Images/Profile/CS/6693.jpg', 'http://isb.nu.edu.pk/Images/Profile/CS/6694.jpg', 'http://isb.nu.edu.pk/Images/Profile/CS/6695.jpg', 'http://isb.nu.edu.pk/Images/Profile/CS/6651.jpg', 'http://isb.nu.edu.pk/Images/Profile/CS/6654.jpg', 'http://isb.nu.edu.pk/Images/Profile/CS/6708.jpg', 'http://isb.nu.edu.pk/Images/Profile/CS/6245.jpg', 'http://isb.nu.edu.pk/Images/Profile/CS/5677.jpg', 'http://isb.nu.edu.pk/Images/Profile/CS/5912.jpg', 'http://isb.nu.edu.pk/Images/Profile/CS/5922.jpg', 'http://isb.nu.edu.pk/Images/Profile/FSM/57742021-04-22_14.13.10.png', 'http://isb.nu.edu.pk/Images/Profile/CS/5582.jpg', 'http://isb.nu.edu.pk/Images/Profile/CS/4154.jpg', 'http://isb.nu.edu.pk/Images/Profile/CS/5393.jpg', 'http://isb.nu.edu.pk/Images/Profile/CS/6582.jpg', 'http://isb.nu.edu.pk/Images/Profile/CS/6527.jpg', 'http://isb.nu.edu.pk/Images/Profile/CS/6540.jpg', 'http://isb.nu.edu.pk/Images/Profile/CS/6350.jpg', 'http://isb.nu.edu.pk/Images/Profile/CS/6351.jpg', 'http://isb.nu.edu.pk/Images/Profile/CS/4848.jpg', 'http://isb.nu.edu.pk/Images/Profile/EE/5004.jpg', 'http://isb.nu.edu.pk/Images/Profile/EE/5522.jpg', 'http://isb.nu.edu.pk/Images/Profile/EE/5619.jpg', 'http://isb.nu.edu.pk/Images/Profile/EE/9150.jpg', 'http://isb.nu.edu.pk/Images/Profile/EE/6390.jpg', 'http://isb.nu.edu.pk/Images/Profile/EE/4278.jpg', 'http://isb.nu.edu.pk/Images/Profile/EE/4283.jpg', 'http://isb.nu.edu.pk/Images/Profile/EE/4340.jpg', 'http://isb.nu.edu.pk/Images/Profile/EE/3441.jpg', 'http://isb.nu.edu.pk/Images/Profile/EE/3625.jpg', 'http://isb.nu.edu.pk/Images/Profile/EE/3707.jpg', 'http://isb.nu.edu.pk/Images/Profile/EE/3730.jpg', 'http://isb.nu.edu.pk/Images/Profile/EE/4141.jpg', 'http://isb.nu.edu.pk/Images/Profile/EE/4738.jpg', 'http://isb.nu.edu.pk/Images/Profile/EE/3844.jpg', 'http://isb.nu.edu.pk/Images/Profile/EE/3990.jpg', 'http://isb.nu.edu.pk/Images/Profile/EE/4518.jpg', 'http://isb.nu.edu.pk/Images/Profile/EE/5620.jpg', 'http://isb.nu.edu.pk/Images/user/avatar_2x.png', 'http://isb.nu.edu.pk/Images/Profile/EE/5055.jpg', 'http://isb.nu.edu.pk/Images/Profile/EE/7003.jpg', 'http://isb.nu.edu.pk/Images/Profile/EE/9136.jpg', 'http://isb.nu.edu.pk/Images/Profile/EE/9389.jpg', 'http://isb.nu.edu.pk/Images/Profile/EE/4669.jpg', 'http://isb.nu.edu.pk/Images/Profile/EE/5502.jpg', 'http://isb.nu.edu.pk/Images/Profile/EE/5391.jpg', 'http://isb.nu.edu.pk/Images/Profile/EE/5030.jpg', 'http://isb.nu.edu.pk/Images/Profile/EE/4133.jpg', 'http://isb.nu.edu.pk/Images/Profile/EE/4737.jpg', 'http://isb.nu.edu.pk/Images/Profile/EE/4456.jpg', 'http://isb.nu.edu.pk/Images/Profile/EE/9199.jpg', 'http://isb.nu.edu.pk/Images/Profile/EE/5376.jpg', 'http://isb.nu.edu.pk/Images/Profile/EE/4455.jpg', 'http://isb.nu.edu.pk/Images/Profile/EE/5288.jpg', 'http://isb.nu.edu.pk/Images/Profile/EE/3739.jpg', 'http://isb.nu.edu.pk/Images/Profile/CS/6376.jpg', 'http://isb.nu.edu.pk/Images/Profile/FSM/3813.jpg', 'http://isb.nu.edu.pk/Images/Profile/FSM/6939.png', 'http://isb.nu.edu.pk/Images/Profile/FSM/9488.jpg', 'http://isb.nu.edu.pk/Images/Profile/FSM/5332.jpg', 'http://isb.nu.edu.pk/Images/Profile/FSM/5615.jpg', 'http://isb.nu.edu.pk/Images/Profile/FSM/6443.jpg', 'http://isb.nu.edu.pk/Images/Profile/FSM/5333.jpg', 'http://isb.nu.edu.pk/Images/Profile/FSM/5334.jpg', 'http://isb.nu.edu.pk/Images/Profile/FSM/5357.jpg', 'http://isb.nu.edu.pk/Images/Profile/FSM/4398.jpg', 'http://isb.nu.edu.pk/Images/Profile/FSM/5197.jpg', 'http://isb.nu.edu.pk/Images/Profile/FSM/5247.jpg', 'http://isb.nu.edu.pk/Images/Profile/FSM/5331.jpg', 'http://isb.nu.edu.pk/Images/Profile/FSM/6977.jpg', 'http://isb.nu.edu.pk/Images/Profile/FSM/9133.jpg', 'http://isb.nu.edu.pk/Images/Profile/FSM/9151.JPG', 'http://isb.nu.edu.pk/Images/Profile/FSM/9337.jpg', 'http://isb.nu.edu.pk/Images/Profile/FSM/6923.png', 'http://isb.nu.edu.pk/Images/Profile/FSM/9541.jpg', 'http://isb.nu.edu.pk/Images/Profile/FSM/7000.png', 'http://isb.nu.edu.pk/Images/Profile/FSM/5441.jpg', 'http://isb.nu.edu.pk/Images/Profile/FSM/7001.png', 'http://isb.nu.edu.pk/Images/Profile/FSM/6775.jpg', 'http://isb.nu.edu.pk/Images/Profile/FSM/6777.jpg', 'http://isb.nu.edu.pk/Images/Profile/FSM/6805.jpg', 'http://isb.nu.edu.pk/Images/Profile/FSM/6824.jpg', 'http://isb.nu.edu.pk/Images/Profile/FSM/6915.png', 'http://isb.nu.edu.pk/Images/Profile/FSM/6917.png', 'http://isb.nu.edu.pk/Images/Profile/FSM/9381.jpg', 'http://isb.nu.edu.pk/Images/Profile/FSM/5318.jpg', 'http://isb.nu.edu.pk/Images/Profile/FSM/5093.jpg', 'http://isb.nu.edu.pk/Images/Profile/FSM/5141.jpg', 'http://isb.nu.edu.pk/Images/Profile/FSM/5792.jpg', 'http://isb.nu.edu.pk/Images/Profile/FSM/5841.JPG', 'http://isb.nu.edu.pk/Images/Profile/FSM/6222.jpg', 'http://isb.nu.edu.pk/Images/Profile/FSM/6653.jpg', 'http://isb.nu.edu.pk/Images/Profile/FSM/6986.png', 'http://isb.nu.edu.pk/Images/Profile/FSM/6987.png', 'http://isb.nu.edu.pk/Images/Profile/FSM/6989.jpg', 'http://isb.nu.edu.pk/Images/Profile/FSM/6994.png', 'http://isb.nu.edu.pk/Images/Profile/FSM/6796.jpg', 'http://isb.nu.edu.pk/Images/Profile/FSM/6935.png', 'http://isb.nu.edu.pk/Images/Profile/FSM/5405.jpg', 'http://isb.nu.edu.pk/Images/Profile/CS/4656.jpg', 'http://isb.nu.edu.pk/Images/Profile/FSM/3536.jpg', 'http://isb.nu.edu.pk/Images/Profile/SH/3938.jpg', 'http://isb.nu.edu.pk/Images/Profile/SH/42182021-01-20_01.32.39.JPG', 'http://isb.nu.edu.pk/Images/Profile/SH/4220.jpg', 'http://isb.nu.edu.pk/Images/Profile/SH/4385.jpg', 'http://isb.nu.edu.pk/Images/Profile/SH/4219.jpg', 'http://isb.nu.edu.pk/Images/Profile/SH/5248.jpg', 'http://isb.nu.edu.pk/Images/Profile/SH/9383.jpg', 'http://isb.nu.edu.pk/Images/Profile/SH/4576.jpg', 'http://isb.nu.edu.pk/Images/Profile/SH/3442.jpg', 'http://isb.nu.edu.pk/Images/Profile/SH/3940.jpg', 'http://isb.nu.edu.pk/Images/Profile/SH/4127.jpg', 'http://isb.nu.edu.pk/Images/Profile/SH/4214.jpg', 'http://isb.nu.edu.pk/Images/Profile/SH/9529.jpg', 'http://isb.nu.edu.pk/Images/Profile/SH/5354.jpg', 'http://isb.nu.edu.pk/Images/user/avatar_2x.png', 'http://isb.nu.edu.pk/Images/user/avatar_2x.png', 'http://isb.nu.edu.pk/Images/Profile/SH/6918.jpg', 'http://isb.nu.edu.pk/Images/Profile/SH/7007.jpg', 'http://isb.nu.edu.pk/Images/Profile/SH/9341.jpg'] ['Waseem Shahzad', 'Hasan Mujtaba', 'Hammad Majeed', 'Muhammad Asim', 'Ahmad Din', 'Usman Habib', 'Aftab Maroof', 'Kashif Munir', 'Naveed Ahmad', 'Muhammad Arshad Islam', 'Muhammad Asif Naeem', 'Muhammad Aleem', 'Ahmad Raza Shahid', 'Mirza Omer Beg', 'Akhtar Jamil', 'Subhan Ullah', 'Shujaat Hussain Kausar', 'Khubaib Amjad', 'Kifayat Ullah Khan', 'Uzair Khan', 'Irum Inayat', 'Labiba Fahad', 'M. Ishtiaq', 'Imran Ashraf', 'Danish Shehzad', 'Zafar Iqbal Abbasi', 'Qaisar Shafi', 'Ali Zeeshan Ijaz', 'Asif Muhammad', 'Sana Aurangzeb', 'Fehmida Usmani', 'Muhammad Nouman Noor', 'Sayed Qaiser Ali Shah', 'Usman Haider', 'Isma Ul Hassan', 'Shahela Saif', 'Ramoza Ahsan', 'Uzair Iqbal', 'Amna Irum', 'Mehreen Alam', 'Amna Basharat', 'Jawad Hassan Nisar', 'Atif Aftab Ahmed Jilani', 'Noor Ul Ain', 'Hassan Raza', 'Muhammad Adnan Tariq', 'Zeshan Khan', 'Uzma Mahar', 'Zainab Abaid', 'Amina Asif', 'Muhammad Faisal Cheema', 'Behjat Zuhaira', 'Hassan Sartaj', 'Javaria Imtiaz', 'Hina Ayaz', 'Muhammad Mateen Yaqoob', 'Muhammad Bilal', 'Muhammad Aamir Gulzar', 'Shehreyar Rashid', 'Shoaib Saleem Khattak', 'Marium Hida', 'Pir Sami Ullah Shah', 'Mehreen Javaid', 'Hira Mastoor', 'Maryam Shahbaz', 'Bushra Amjad', 'Laraib Afzaal', 'Hina Binte Haq', 'Urooj Ghani', 'Sana Razzaq', 'Amina Siddique', 'Nimra Shahid', 'Arslan Aslam', 'Irfan Ullah', 'Saba Kanwal', 'Ameen Chilwan', 'Owais Idrees', 'Maheen Arshad', 'Sara Afzal', 'Ifrah Qaiser', 'Shafaq Riaz Bhatti', 'Ayesha Kamran', 'Parisa Salma', 'Syed M.Saad Salman', 'Bilal Khalid Dar', 'Shehr Bano', 'Kainat Iqbal', 'Madiha Umar', 'Humera Sabir', 'Sidra Khalid', 'Majid Hussain', 'Shams Farooq', 'Aqib Rehman', 'Mahnoor Tariq', 'Muhammad Sohail Abbas', 'Muhammad Aadi Ur Rehman', 'Ahmad Raza', 'Farheen Tabassum', 'Shahbaz Hassan', 'Tajwar Mehmood', 'Nirmal Tariq', 'Muhammad Farrukh Bashir', 'Adil Majeed', 'Saira Qamar', 'Sadia Saad', 'Zaheer Ul Hussain Sani', 'Laiba Imran', 'Muhammad Almas Khan', 'Mehmood Ul Hassan', 'Khadija Mahmood', 'Basharat Hussain', 'Rabail Zahid', 'Kanza Hamid', 'Mohsin Khan', 'Junaid Ali Khan', 'Zonera Anjum', 'Nigar Azhar Butt', 'Usama Imtiaz', 'Umarah Qaseem', 'Anum Kaleem', 'Laiba Noor', 'Zahoor Ul Hassan', 'Maryam Khalid', 'Muhammad Talha Sharif', 'Hamza Mahmood Sheikh', 'Talha Tariq', 'Hajira Uzair', 'Syed Daniyal Hussain Shah', 'Zoya Mahboob', 'Noor Ul Ain', 'Fahad Waheed', 'Muhammad Hamza', 'Nabeelah Maryam', 'Ali Hamza', 'Amina Ashfaq', 'Zill-E-Huma', 'Asma Tufail', 'Aneeqa Khalil', 'Muhammad Suleman Saboor', 'Ghulam Fatima', 'Ehsaan Ali', 'Ayesha Marriyam', 'Muhammad Muneeb Baig', 'Bushra Fatima Tariq', 'Zoya Sumbul Zaheer', 'Sunduss Aamir Khan', 'Khizra Sohail', 'Mubrra Asma', 'Maryam Hussain', 'Muhammad Ammar Masood', 'Usama Bin Imran', 'Abdul Hammad Rasheed', 'Palwasha Zahid', 'M Naveed Khurshid', 'Neelofar Niazi', 'Baber Shahzad', 'Ayesha Yaqub Malik', 'Abdul Qadoos', 'Amir Rehman', 'Shakeel Ahmed Kiyani', 'Fahad Shahzad', 'Muhammad Usman Tariq', 'Madiha Khan', 'Nayab Razzaq', 'Muhammad Aadil', 'Syed Shaharyar Yousaf', 'Muhammad Tariq', 'Waseem Ikram', 'Mukhtar Ullah', 'Rashad Ramzan', 'Ataul Aziz Ikram', 'Niaz Ahmed', 'Arshad Hassan Khan', 'Aamer Hafeez', 'Sana Hassan', 'Aamer Munir', 'Farhan Khalid', 'Azhar Rauf', 'Shahid Qureshi', 'Muhammad Saeed', 'Shahzad Saleem', 'Shehzad Ahmad', 'M. Ibrar Khan', 'Waqas Bin Abbas', 'Muhammad Jafar', 'Hassan Saif', 'Sana Saleh', 'Muhammad Hammad', 'Moomal Bukhari', 'Maria Nasir', 'Fakhar Abbas', 'Ifrah Maqsood', 'Soha Saqib', 'Kashif Islam', 'M. Atif Baig', 'Ahsan Iqbal Khan', 'Saqib Shahbaz Raja', 'Muhammad Younas', 'Ghulam Nabi', 'Rizwan Javed', 'Uzair Uddin Farooqi', 'Muhammad Tariq', 'Nimra Fatima', 'Sadia Nadeem', 'Muhammad Hanif Akhtar', 'Muhammad Abbas', 'Muhammad Akhtar', 'Haider Ali', 'Muhammad Yasir', 'Muhammad Bilal Saeed', 'Rehan Aftab', 'Muhammad Hassaan', 'Sarah Khan', 'Aftab Bhatti', 'Danial Hasan', 'Abdul Wahab', 'Rameeza Andleeb', 'Falak Khan', 'Usman Zafar Chaudhry', 'Hammad Majeed', 'Aneka Fahima Sufi', 'M. Bilal Saeed', 'Muhammad Nadeem Sarwar', 'Amna Arsalan Farooqui', 'Faheem Ur Rehman', 'Syed Muhammad Kashif Raza', 'Sajjad Hussain', 'Aamina Mukhtar Sheikh', 'Muhammad Qaiser Shafi', 'Sumaira Ghafoor', 'Asma Masood Malik', 'Mansoor Mushtaq', 'Sajjad Hanif', 'Sidra Abbas', 'Saifullah Khan', 'Ayesha Yaqoob', 'Mehmood Ur Rehman', 'Anas Aziz', 'Hamnah Rahat', 'Mueed Ahmad', 'Ali Hassan', 'Abdul Mannan', 'Adnan Feroz Rana', 'Ridda Fatima', 'Syeda Hoor Ul Ain Ali', 'Jabeen Akhtar', 'Tufail Ahmad', 'Muhammad Shiraz', 'Khadija Farooq', 'M. Usman Ashraf', 'Syed Irfan Shah', 'Muhammad Tayyeb Nadeem', 'Muhammad Ali', 'Hamda Khan', 'Memoona Rasool', 'Khalil Ullah', 'Shahzad Mahmood', 'Aisha Ijaz', 'Mehwish Hassan', 'Farah Jabeen Awan', 'Sumera Abbas', 'Sehrish Hassan Shigri', 'Sana Ilyas', 'Zunera Malik', 'Tayyaba Waseem', 'Maria Mazhar', 'Sadia Nauman'] ['waseem.shahzad@nu.edu.pk', 'hasan.mujtaba@nu.edu.pk', 'hammad.majeed@nu.edu.pk', 'muhammad.asim@nu.edu.pk', 'ahmad.din@nu.edu.pk', 'usman.habib@nu.edu.pk', 'aftab.maroof@nu.edu.pk', '(On Leave)', 'naveed.ahmad@nu.edu.pk', 'arshad.islam@nu.edu.pk', 'asif.naeem@nu.edu.pk', 'On leave', 'ahmadraza.shahid@nu.edu.pk', 'omer.beg@nu.edu.pk', 'akhtar.jamil@nu.edu.pk', 'subhan.ullah@nu.edu.pk', 'On leave', 'On leave', 'On leave', 'On leave', 'On leave', 'labiba.fahad@nu.edu.pk', 'm.ishtiaq@nu.edu.pk', 'imran.ashraf@isb.nu.edu.pk', 'danish.shehzad@isb.nu.edu.pk', 'zafar.iqbal@isb.nu.edu.pk', 'qaisar.shafi@nu.edu.pk', 'ali.zeeshan@isb.nu.edu.pk', 'asif.muhammad@isb.nu.edu.pk', 'sana.aurangzeb@nu.edu.pk', 'fehmida.usmani@isb.nu.edu.pk', 'nouman.noor@isb.nu.edu.pk', 'qaiser.ali@isb.nu.edu.pk', 'On Leave', 'isma.hassan@nu.edu.pk', 'shahela.saif@nu.edu.pk', 'ramoza.ahsan@nu.edu.pk', 'On leave', 'amna.irum@nuedu.pk', 'mehreen.alam@nu.edu.pk', 'On Leave', 'jawad.hassan@nu.edu.pk', 'atif.jilani@nu.edu.pk', 'noorul.ain@nu.edu.pk', 'hassan.raza@nu.edu.pk', 'muhammad.adnan@nu.edu.pk', 'zeshan.khan@nu.edu.pk', 'uzma.mahar@nu.edu.pk', 'On leave', 'On leave', 'faisal.cheema@nu.edu.pk', 'behjat.zuhaira@nu.edu.pk', 'On leave', 'javaria.imtiaz@nu.edu.pk', 'hina.ayaz@isb.nu.edu.pk', 'mateen.yaqoob@isb.nu.edu.pk', 'muhammad.bilal@isb.nu.edu.pk', 'aamir.gulzar@nu.edu.pk', 'shehreyar.rashid@nu.edu.pk', 'shoaib.saleem@nu.edu.pk', 'marium.hida@nu.edu.pk', 'samiullah.shah@nu.edu.pk', 'mehreen.javaid@nu.edu.pk', 'hira.mastoor@nu.edu.pk', 'maryam.shahbaz@nu.edu.pk', 'On leave', 'laraib.afzaal@nu.edu.pk', 'hina.haq@nu.edu.pk', 'urooj.ghani@nu.edu.pk', 'sana.razzaq@nu.edu.pk', 'On Leave', 'On leave', 'arslan.aslam@nu.edu.pk', 'irfan.ullah@nu.edu.pk', 'On Leave', 'On leave', 'Owais.idrees@nu.edu.pk', 'On leave', 'On leave', 'On leave', 'shafaq.riaz@nu.edu.pk', 'ayesha.kamran@nu.edu.pk', 'On leave', 'saad.salman@nu.edu.pk', 'bilal.khalid@nu.edu.pk', '(On Leave)', 'kainat.Iqbal@isb.nu.edu.pk', 'On leave', 'On leave', 'sidra.khalid@nu.edu.pk', 'majid.hussain@nu.edu.pk', 'shams.farooq@nu.edu.pk', 'aqib.rehman@isb.nu.edu.pk', 'mahnoor.tariq@isb.nu.edu.pk', 'sohail.abbas@isb.nu.edu.pk', 'aadil.rehman@isb.nu.edu.pk', 'ahmad.raza@isb.nu.edu.pk', 'farheen.tabassum@isb.nu.edu.pk', 'shahbaz.hassan@isb.nu.edu.pk', 'tajwar.mehmood@nu.edu.pk', 'nirmal.tariq@nu.edu.pk', 'farrukh.bashir@isb.nu.edu.pk', 'adil.majeed@nu.edu.pk', 'saira.qamar@nu.edu.pk', 'sadia.saad@nu.edu.pk', 'zaheer.sani@nu.edu.pk', 'laiba.imran@nu.edu.pk', 'muhammad.almas@nu.edu.pk', 'mehmood.hassan@nu.edu.pk', 'On Leave', 'basharat.hussain@isb.nu.edu.pk', 'rabail.zahid@isb.nu.edu.pk', 'kanza.hamid@isb.nu.edu.pk', 'mohsin.khan@isb.nu.edu.pk', 'junaid.ali@isb.nu.edu.pk', 'zonera.anjum@isb.nu.edu.pk', 'nigar.azhar@isb.nu.edu.pk', 'usama.imtaz@isb.nu.edu.pk', 'umarah.qaseem@isb.nu.edu.pk', 'anum.kaleem@isb.nu.edu.pk', 'laiba.noor@isb.nu.edu.pk', 'zahoor.hassan@isb.nu.edu.pk', 'maryam.khalid@isb.nu.edu.pk', 'talha.sharif@isb.nu.edu.pk', '\"hamza.mahmood@isb.nu.edu.pk \"', 'talha.tariq@nu.edu.pk', 'hajira.uzair@isb.nu.edu.pk', 'daniyal.hussain@isb.nu.edu.pk', 'zoya.mahboob@isb.nu.edu.pk', 'noor.ulain@isb.nu.edu.pk', 'On Leave', 'On Leave', 'nabeelah.maryam@isb.nu.edu.pk', 'ali.hamza@isb.nu.edu.pk', 'Amina Ashfaq', 'zille.huma@nu.edu.pk', 'asma.tufail@isb.nu.edu.pk', 'aneeqa.khalil@isb.nu.edu.pk', 'suleman.saboor@isb.nu.edu.pk', 'ghulam.fatima@isb.nu.edu.pk', 'ehsaan.ali@isb.nu.edu.pk', 'On Leave', 'muneeb.baig@isb.nu.edu.pk', 'bushra.fatima@nu.edu.pk', 'zoya.sumbul@nu.edu.pk', 'sunduss.aamir@nu.edu.pk', 'On Leave', 'mubrra.asma@isb.nu.edu.pk', 'maryam.hussain@isb.nu.edu.pk', 'ammar.masood@isb.nu.edu.pk', 'usama.imran@isb.nu.edu.pk', 'hammad.rasheed@isb.nu.edu.pk', 'palwasha.zahid@isb.nu.edu.pk', 'naveed.khurshid@nu.edu.pk', 'neelofar.niazi@nu.edu.pk', 'baber.shahzad@nu.edu.pk', 'On leave', 'abdul.qadoos@nu.edu.pk', 'amir.rehman@nu.edu.pk', 'shakeel.kiyani@nu.edu.pk', 'fahad.shahzad@nu.edu.pk', 'muhammadusman.tariq@nu.edu.pk', 'madiha.khan@nu.edu.pk', 'nayab.razzaq@nu.edu.pk', 'm.aadil@nu.edu.pk', 'Shaharyar.yousaf@nu.edu.pk', 'tariq.khan@nu.edu.pk', 'waseem.ikram@nu.edu.pk', 'mukhtar.ullah@nu.edu.pk', 'rashad.ramzan@nu.edu.pk', 'ata.ikram@nu.edu.pk', 'niaz.ahmed@nu.edu.pk', 'arshad.hassan@nu.edu.pk', 'aamer.hafeez@nu.edu.pk', 'sana.hassan@nu.edu.pk', 'aamer.munir@nu.edu.pk', 'farhan.khalid@nu.edu.pk', 'azhar.rauf@nu.edu.pk', 'shahid.qureshi@nu.edu.pk', 'muhammad.saeed@nu.edu.pk', 'shahzad.saleem@nu.edu.pk', 'shehzad.ahmad@nu.edu.pk', 'ibrar.khan@nu.edu.pk', 'waqas.abbas@nu.edu.pk', 'muhammad.jafar@nu.edu.pk', 'hassan.saif@nu.edu.pk', 'sana.saleh@nu.edu.pk', 'muhammad.hammad@isb.nu.edu.pk', 'moomal.bukhari@nu.edu.pk', 'maria.nasir@nu.edu.pk', 'fakhar.abbas@nu.edu.pk', 'ifrah.maqsood@nu.edu.pk', 'soha.saqib@nu.edu.pk', 'kashif.islam@nu.edu.pk', 'atif.baig@nu.edu.pk', 'Ahsan.iqbal@nu.edu.pk', 'saqib.shahbaz@nu.edu.pk', 'muhammad.younas@nu.edu.pk', 'ghulam.nabi@nu.edu.pk', 'rizwan.javed@nu.edu.pk', 'uzair.farooqi@nu.edu.pk', 'malik.tariq@nu.edu.pk', 'nimra.fatima@nu.edu.pk', 'sadia.nadeem@nu.edu.pk', 'Hanif.Akhtar@isb.nu.edu.pk', 'muhammad.abbas@nu.edu.pk', 'muhammad.akhtar@nu.edu.pk', 'haider.ali@nu.edu.pk', 'm.yasir@nu.edu.pk', 'bilalsaeed@nu.edu.pk', 'rehan.aftab@nu.edu.pk', 'muhammad.hassaan@nu.edu.pk', 'sara.khan@nu.edu.pk', 'aftab.bhatti@nu.edu.pk', 'danial.hassan@nu.edu.pk', 'abdulwahab@nu.edu.pk', 'rameeza.andleeb@isb.nu.edu.pk', 'falak.khan@nu.edu.pk', 'usman.chaudhry@nu.edu.pk', 'h.majeed@nu.edu.pk', 'aneka.fahima@isb.nu.edu.pk', 'bilal.saeed@nu.edu.pk', 'nadeem.sarwar@isb.nu.edu.pk', 'amna.farooqui@nu.edu.pk', 'faheem.urrehman@isb.nu.edu.pk', 'kashif.raza@isb.nu.edu.pk', 'sajjad.hussain@isb.nu.edu.pk', 'aamina.sheikh@isb.nu.edu.pk', 'qaiser.shafi@isb.nu.edu.pk', 'Sumaira.Ghafoor@isb.nu.edu.pk', 'Asma.Masood@isb.nu.edu.pk', 'mansoor.mushtaq@nu.edu.pk', 'sajjad.hanif@nu.edu.pk', 'sidra.abbas@nu.edu.pk', 'saifullah.khan@nu.edu.pk', 'ayesha.yaqoob@nu.edu.pk', 'mehmood.rehman@nu.edu.pk', 'anasaziz@nu.edu.pk', 'hamnah.rahat@isb.nu.edu.pk', 'mueed.ahmad@isb.nu.edu.pk', 'ali.hassan@isb.nu.edu.pk', 'abdul.mannan@isb.nu.edu.pk', 'adnan.feroz@isb.nu.edu.pk', 'ridda.fatima@isb.nu.edu.pk', 'syeda.hoor@isb.nu.edu.pk', 'jabeen.akhtar@nu.edu.pk', 'tufail.ahmad@nu.edu.pk', 'muhammad.shiraz@nu.edu.pk', 'khadija.farooq@nu.edu.pk', 'usman.ashraf@nu.edu.pk', 'irfan.shah@nu.edu.pk', 'tayyeb.nadeem@nu.edu.pk', 'm.ali@nu.edu.pk', 'hamda.khan@nu.edu.pk', 'maimoona.rasool@nu.edu.pk', 'khalil.awan@nu.edu.pk', 'shahzad.mahmood@nu.edu.pk', 'aisha.ijaz@nu.edu.pk', 'mehwish.hassan@nu.edu.pk', 'farah.awan@nu.edu.pk', 'sumera.abbas@nu.edu.pk', 'sehrish.hassan@nu.edu.pk', 'sanaa.ilyas@nu.edu.pk', 'zunaira.malik@nu.edu.pk', 'tayyaba.waseem@isb.nu.edu.pk', 'maria.mazhar@isb.nu.edu.pk', 'sadia.nauman@nu.edu.pk'] ['Director & Professor', 'Head, School of Computing & Professor', 'HoD (Computer Science) & Professor', 'HoD (Cyber Security) & Professor', 'HoD (Artificial Intelligence & Data Science) & Professor', 'Associate Professor / HoD (SE)', 'Professor', 'Professor', 'Professor', 'Professor', 'Professor', 'Professor', 'Professor', 'Professor', 'Associate Professor', 'Associate Professor', 'Associate Professor', 'Associate Professor', 'Associate Professor', 'Associate Professor', 'Associate Professor', 'Associate Professor', 'Associate Professor', 'Associate Professor', 'Associate Professor', 'Associate Professor', 'Assistant Professor', 'Assistant Professor', 'Assistant Professor', 'Assistant Professor', 'Assistant Professor', 'Assistant Professor', 'Assistant Professor', 'Assistant Professor', 'Assistant Professor', 'Assistant Professor', 'Assistant Professor', 'Assistant Professor', 'Assistant Professor', 'Assistant Professor', 'Assistant Professor', 'Assistant Professor', 'Assistant Professor', 'Assistant Professor', 'Assistant Professor', 'Assistant Professor', 'Assistant Professor', 'Assistant Professor', 'Assistant Professor', 'Assistant Professor', 'Assistant Professor', 'Assistant Professor', 'Assistant Professor', 'Assistant Professor', 'Assistant Professor', 'Assistant Professor', 'Assistant Professor', 'Lecturer', 'Lecturer', 'Lecturer', 'Lecturer', 'Lecturer', 'Lecturer', 'Lecturer', 'Lecturer', 'Lecturer', 'Lecturer', 'Lecturer', 'Lecturer', 'Lecturer', 'Lecturer', 'Lecturer', 'Lecturer', 'Lecturer', 'Lecturer', 'Lecturer', 'Lecturer', 'Lecturer', 'Lecturer', 'Lecturer', 'Lecturer', 'Lecturer', 'Lecturer', 'Lecturer', 'Lecturer', 'Lecturer', 'Lecturer', 'Lecturer', 'Lecturer', 'Lecturer', 'Lecturer', 'Lecturer', 'Lecturer', 'Lecturer', 'Lecturer', 'Lecturer', 'Lecturer', 'Lecturer', 'Lecturer', 'Lecturer', 'Lecturer', 'Lecturer', 'Lecturer', 'Lecturer', 'Lecturer', 'Lecturer', 'Lecturer', 'Lecturer', 'Lecturer', 'Lecturer', 'Lecturer', 'Lecturer', 'Lecturer', 'Lecturer', 'Lecturer', 'Lecturer', 'Lecturer', 'Lecturer', 'Lecturer', 'Lecturer', 'Instructor', 'Instructor', 'Instructor', 'Instructor', 'Instructor', 'Instructor', 'Instructor', 'Instructor', 'Instructor', 'Instructor', 'Instructor', 'Instructor', 'Instructor', 'Instructor', 'Instructor', 'Instructor', 'Instructor', 'Instructor', 'Instructor', 'Instructor', 'Instructor', 'Instructor', 'Instructor', 'Instructor', 'Instructor', 'Instructor', 'Instructor', 'Instructor', 'Instructor', 'Instructor', 'Instructor', 'Instructor', 'Instructor', 'Instructor', 'Assistant Manager (Coordination)', 'Academic Officer', 'Academic Officer', 'Academic Officer', 'Academic Officer', 'Academic Officer', 'Academic Officer', 'Assistant Academic Officer', 'Department Secretary', 'Department Secretary', 'Assistant Academic Officer', 'Assistant Academic Officer', 'HOD & Professor', 'Professor', 'Professor', 'Professor', 'Professor', 'Associate Professor', 'Associate Professor', 'Assistant Professor', 'Assistant Professor', 'Assistant Professor', 'Assistant Professor', 'Assistant Professor', 'Assistant Professor', 'Assistant Professor', 'Assistant Professor', 'Assistant Professor', 'Assistant Professor', 'Assistant Professor', 'Assistant Professor', 'Assistant Professor', 'Lecturer', 'Lecturer', 'Lecturer', 'Lecturer', 'Lecturer', 'Lab Engineer', 'Assistant Manager Academics', 'Deputy Manager (EE Labs)', 'Deputy Manager (Coordination)', 'Lab Supervisor', 'Lab Supervisor', 'Lab Supervisor', 'Lab Technician', 'Lab Assistant', 'Academic Officer', 'Assistant Academic Officer', 'Lab Engineer', 'HOD & Professor', 'Professor', 'Professor', 'Associate Professor', 'Associate Professor', 'Assistant Professor', 'Assistant Professor', 'Assistant Professor', 'Assistant Professor', 'Assistant Professor', 'Assistant Professor', 'Assistant Professor', 'Assistant Professor', 'Assistant Professor', 'Assistant Professor', 'Assistant Professor', 'Assistant Professor', 'Assistant Professor', 'Assistant Professor', 'Assistant Professor', 'Assistant Professor', 'Lecturer', 'Lecturer', 'Lecturer', 'Lecturer', 'Lecturer', 'Lecturer', 'Lecturer', 'Lecturer', 'Lecturer', 'Lecturer', 'Lecturer', 'Lecturer', 'Lecturer', 'Instructor', 'Instructor', 'Instructor', 'Instructor', 'Instructor', 'Instructor', 'Instructor', 'Instructor', 'Assistant Manager Academics', 'Assistant Manager Academics', 'Assistant', 'Incharge (Sciences & Humanities) & Assistant Professor', 'Professor', 'Professor', 'Professor', 'Associate Professor', 'Associate Professor', 'Assistant Professor', 'Assistant Professor', 'Assistant Professor', 'Assistant Professor', 'Assistant Professor', 'Assistant Professor', 'Lecturer', 'Lecturer', 'Lecturer', 'Lecturer', 'Lecturer', 'Lecturer', 'Lecturer']\n"
     ]
    }
   ],
   "source": [
    "print(ID,ImageURL,Name,Email,Designation)"
   ]
  },
  {
   "cell_type": "code",
   "execution_count": 182,
   "id": "9be47542-58f3-4140-8a6e-58caba71b8db",
   "metadata": {},
   "outputs": [],
   "source": [
    "faculty_driver = webdriver.Chrome()\n",
    "try:\n",
    "    for mem in faculty:\n",
    "        faculty_links = mem.find_elements(By.TAG_NAME, \"a\")\n",
    "\n",
    "        for link in faculty_links:\n",
    "            memberLink = link.get_attribute('href')\n",
    "            faculty_driver.get(memberLink)\n",
    "\n",
    "            member = WebDriverWait(faculty_driver, 10).until(EC.presence_of_element_located((By.CLASS_NAME, \"profile-info\")))\n",
    "            spanElements = member.find_elements(By.TAG_NAME, \"span\")\n",
    "            memberLabels = member.find_elements(By.TAG_NAME, \"label\")\n",
    "\n",
    "            try:\n",
    "                education = WebDriverWait(faculty_driver, 10).until(EC.presence_of_element_located((By.XPATH, \"//*[@id='DegreeName']//label\")))\n",
    "                Highest_Education.append(education.text if education.text else \"N/A\")\n",
    "            except:\n",
    "                Highest_Education.append(\"N/A\")\n",
    "\n",
    "            HEC_Approved_PHD_Supervisor.append(len(memberLabels) > 1)\n",
    "\n",
    "            try:\n",
    "                Extension.append(int(spanElements[1].text[-3:]) if len(spanElements) > 1 else -1)\n",
    "            except (ValueError, IndexError):\n",
    "                Extension.append(-1)\n",
    "finally:\n",
    "    faculty_driver.quit()"
   ]
  },
  {
   "cell_type": "code",
   "execution_count": 184,
   "id": "dff922fe-818c-4842-9d69-dc14baf40d3f",
   "metadata": {},
   "outputs": [],
   "source": [
    "departmentDriver = webdriver.Chrome()\n",
    "departmentDriver.get(URL)\n",
    "department_mapping = {\n",
    "    'facultyCS': 'Computing',\n",
    "    'facultyEE': 'Electrical Engineering',\n",
    "    'facultyMS': 'Management Sciences',\n",
    "    'facultySH': 'Sciences and Humanities'\n",
    "}"
   ]
  },
  {
   "cell_type": "code",
   "execution_count": 186,
   "id": "bcc93fe1-ac0f-4e5c-b0c8-4b618cc494fd",
   "metadata": {},
   "outputs": [],
   "source": [
    "for dept_id, name in department_mapping.items():\n",
    "    depSection = WebDriverWait(departmentDriver, 10).until(EC.presence_of_element_located((By.ID, dept_id)))\n",
    "    team = WebDriverWait(depSection, 10).until(EC.presence_of_all_elements_located((By.XPATH, \".//*[contains(@class, 'our-team')]\")))\n",
    "    Department.extend([name] * len(team))"
   ]
  },
  {
   "cell_type": "code",
   "execution_count": 188,
   "id": "076d00a4-8e6b-4c9c-819a-cfd5ad0d4f3f",
   "metadata": {},
   "outputs": [
    {
     "name": "stdout",
     "output_type": "stream",
     "text": [
      "267\n",
      "267\n",
      "267\n",
      "267\n"
     ]
    }
   ],
   "source": [
    "print(len(Department))\n",
    "print(len(Extension))\n",
    "print(len(HEC_Approved_PHD_Supervisor))\n",
    "print(len(Highest_Education))"
   ]
  },
  {
   "cell_type": "code",
   "execution_count": 190,
   "id": "03c5919c-04ee-4880-8d76-aaf70fddd753",
   "metadata": {},
   "outputs": [],
   "source": [
    "faculty_dfISL = pd.DataFrame({'ID': ID , 'Name': Name , 'Designation': Designation , 'HEC_Approved_PHD_Supervisor': HEC_Approved_PHD_Supervisor ,'Highest_Education': Highest_Education , 'Email' : Email , 'Department': Department , 'Extension': Extension,'ImageURL': ImageURL })"
   ]
  },
  {
   "cell_type": "code",
   "execution_count": 192,
   "id": "48f1d9b3-adcf-42ed-9af9-7a36f67bef46",
   "metadata": {},
   "outputs": [],
   "source": [
    "faculty_dfISL.to_csv('isl.csv')"
   ]
  },
  {
   "cell_type": "code",
   "execution_count": null,
   "id": "386e906b-513a-40e5-9c88-b1ea7e3f3f82",
   "metadata": {},
   "outputs": [],
   "source": []
  }
 ],
 "metadata": {
  "kernelspec": {
   "display_name": "Python [conda env:base] *",
   "language": "python",
   "name": "conda-base-py"
  },
  "language_info": {
   "codemirror_mode": {
    "name": "ipython",
    "version": 3
   },
   "file_extension": ".py",
   "mimetype": "text/x-python",
   "name": "python",
   "nbconvert_exporter": "python",
   "pygments_lexer": "ipython3",
   "version": "3.12.7"
  }
 },
 "nbformat": 4,
 "nbformat_minor": 5
}
